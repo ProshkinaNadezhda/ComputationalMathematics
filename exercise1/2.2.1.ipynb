{
 "cells": [
  {
   "cell_type": "code",
   "execution_count": 98,
   "id": "23ea6729-4ef3-4065-8d18-7411bf825c92",
   "metadata": {},
   "outputs": [],
   "source": [
    "import numpy as np"
   ]
  },
  {
   "cell_type": "code",
   "execution_count": 103,
   "id": "7d49db2c-57c4-4758-a965-a421f686bf7b",
   "metadata": {},
   "outputs": [],
   "source": [
    "def swap_rows(a, i, j):\n",
    "    a[i, :], a[j, :] = list(a[j, :]).copy(), list(a[i, :]).copy()\n",
    "    \n",
    "def swap_columns(a, i, j):\n",
    "    a[:, i], a[:, j] = list(a[:, j]).copy(), list(a[:, i]).copy()\n",
    "\n",
    "def Gauss(a, b):\n",
    "    n, sc = len(b), []\n",
    "    if not(np.linalg.det(a)):\n",
    "        print('Матрица вырожденная')\n",
    "        return\n",
    "    for i in range(n - 1):\n",
    "        num = np.amax(abs(a)[i:, i:])\n",
    "        x, j = np.where(abs(a) == num)\n",
    "        sc.append([i, int(j[0])])\n",
    "        swap_rows(a, i, int(x[0]))\n",
    "        b[i], b[int(x[0])] = b[int(x[0])], b[i]\n",
    "        swap_columns(a, i, int(j[0]))\n",
    "        for k in range(i+1, n):\n",
    "            r = a[k][i] / a[i][i]\n",
    "            for l in range(i, n):\n",
    "                a[k][l] -= a[i][l] * r\n",
    "            b[k] -= b[i] * r\n",
    "    u = np.zeros((n, 1))\n",
    "    for i in range(n-1, -1, -1):\n",
    "        s = 0\n",
    "        for j in range(i+1, n):\n",
    "            s += a[i][j] * u[j][0]\n",
    "        u[i][0] = (b[i] - s) / a[i][i]\n",
    "\n",
    "    k = np.shape(sc)[0]    \n",
    "    for i in range(k-1, -1, -1):          \n",
    "        u[sc[i][0]], u[sc[i][1]] = np.copy(u[sc[i][1]]), np.copy(u[sc[i][0]])\n",
    "    return u"
   ]
  },
  {
   "cell_type": "code",
   "execution_count": 104,
   "id": "d347a830-780b-4568-86e7-9dec2cd44374",
   "metadata": {},
   "outputs": [
    {
     "data": {
      "text/plain": [
       "array([[ 1.],\n",
       "       [ 2.],\n",
       "       [-1.]])"
      ]
     },
     "execution_count": 104,
     "metadata": {},
     "output_type": "execute_result"
    }
   ],
   "source": [
    "a = np.array([[1., 2., 0.], \n",
    "              [3., 4., 5.], \n",
    "              [0., 6., 7.]])\n",
    "b = np.array([5., 6., 5.])\n",
    "Gauss(a, b)"
   ]
  },
  {
   "cell_type": "code",
   "execution_count": 105,
   "id": "4c405b60-48ee-4c1a-9305-54a37570e5b9",
   "metadata": {},
   "outputs": [
    {
     "data": {
      "text/plain": [
       "array([[ 1.],\n",
       "       [ 2.],\n",
       "       [-1.]])"
      ]
     },
     "execution_count": 105,
     "metadata": {},
     "output_type": "execute_result"
    }
   ],
   "source": [
    "a = np.array([[2., 3., 0.], \n",
    "              [4., 5., 6.], \n",
    "              [0., 7., 8.]])\n",
    "b = np.array([8., 8., 6.])\n",
    "Gauss(a, b)"
   ]
  },
  {
   "cell_type": "code",
   "execution_count": 106,
   "id": "f507f913-6ecc-40ec-b8b2-cee889dfec5d",
   "metadata": {},
   "outputs": [
    {
     "data": {
      "text/plain": [
       "array([[ 1.],\n",
       "       [ 2.],\n",
       "       [-1.]])"
      ]
     },
     "execution_count": 106,
     "metadata": {},
     "output_type": "execute_result"
    }
   ],
   "source": [
    "a = np.array([[3., 4., 0.], \n",
    "              [5., 6., 7.], \n",
    "              [0., 8., 9.]])\n",
    "b = np.array([11., 10., 7.])\n",
    "Gauss(a, b)"
   ]
  },
  {
   "cell_type": "code",
   "execution_count": null,
   "id": "a8c0a755-12c3-49c6-ac68-789a99c33c68",
   "metadata": {},
   "outputs": [],
   "source": []
  }
 ],
 "metadata": {
  "kernelspec": {
   "display_name": "Python 3 (ipykernel)",
   "language": "python",
   "name": "python3"
  },
  "language_info": {
   "codemirror_mode": {
    "name": "ipython",
    "version": 3
   },
   "file_extension": ".py",
   "mimetype": "text/x-python",
   "name": "python",
   "nbconvert_exporter": "python",
   "pygments_lexer": "ipython3",
   "version": "3.9.7"
  }
 },
 "nbformat": 4,
 "nbformat_minor": 5
}
