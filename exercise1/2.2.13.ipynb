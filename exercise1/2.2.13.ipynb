{
 "cells": [
  {
   "cell_type": "code",
   "execution_count": 113,
   "id": "6474aea8-4bfd-41a0-88d0-0a0debc9aaa5",
   "metadata": {},
   "outputs": [],
   "source": [
    "import numpy as np"
   ]
  },
  {
   "cell_type": "code",
   "execution_count": 114,
   "id": "97744ba6-64bb-4a0e-8b5e-3c45e963f4a1",
   "metadata": {},
   "outputs": [],
   "source": [
    "def norm(a, b, i):\n",
    "    n = np.linalg.norm(a[i], ord=2)\n",
    "    a[i] /= n\n",
    "    b[i] /= n"
   ]
  },
  {
   "cell_type": "code",
   "execution_count": 115,
   "id": "edaea625-a884-44dc-abfa-f40ee9d6edce",
   "metadata": {},
   "outputs": [],
   "source": [
    "def dot(*a):\n",
    "    x = a[0]\n",
    "    for i in range(1, len(a)):\n",
    "        x = np.dot(x, a[i])\n",
    "    return x"
   ]
  },
  {
   "cell_type": "code",
   "execution_count": 116,
   "id": "5ba50f01-1521-4d2e-82f3-11e7abe1af6b",
   "metadata": {},
   "outputs": [],
   "source": [
    "def ort_row(a, b):\n",
    "    norm(a, b, 0)\n",
    "    for i in range(1, len(a[0])):\n",
    "        for j in range(i):\n",
    "            a[i], b[i] = a[i] - dot(a[i], a[j], a[j]), b[i] - dot(a[i], a[j], b[j])\n",
    "        norm(a, b, i)\n",
    "    return np.dot(np.transpose(a), b)"
   ]
  },
  {
   "cell_type": "code",
   "execution_count": 120,
   "id": "ea939312-0124-4010-9a92-a6fdd4240cf7",
   "metadata": {},
   "outputs": [],
   "source": [
    "a = np.array([[1., 2.], [3., 4.]])\n",
    "b = np.array([3., 5.])"
   ]
  },
  {
   "cell_type": "code",
   "execution_count": 121,
   "id": "66764ba5-6498-49ff-8abf-fb9f733e4240",
   "metadata": {},
   "outputs": [
    {
     "data": {
      "text/plain": [
       "array([-1.,  2.])"
      ]
     },
     "execution_count": 121,
     "metadata": {},
     "output_type": "execute_result"
    }
   ],
   "source": [
    "ort_row(a, b)"
   ]
  },
  {
   "cell_type": "code",
   "execution_count": 122,
   "id": "ee7acacd-ddd3-4cfb-860f-9f5579d083f2",
   "metadata": {},
   "outputs": [],
   "source": [
    "a = np.array([[3., 4.], [5., 6.]])\n",
    "b = np.array([2., 4.])"
   ]
  },
  {
   "cell_type": "code",
   "execution_count": 123,
   "id": "dbdc2975-1214-4eda-8847-0e9eec24d55e",
   "metadata": {},
   "outputs": [
    {
     "data": {
      "text/plain": [
       "array([ 2., -1.])"
      ]
     },
     "execution_count": 123,
     "metadata": {},
     "output_type": "execute_result"
    }
   ],
   "source": [
    "ort_row(a, b)"
   ]
  },
  {
   "cell_type": "code",
   "execution_count": 124,
   "id": "ff3440c3-195d-452a-bb96-c8dc18ce881b",
   "metadata": {},
   "outputs": [],
   "source": [
    "a = np.array([[5., 6.], [7., 8.]])\n",
    "b = np.array([9., 13.])"
   ]
  },
  {
   "cell_type": "code",
   "execution_count": 125,
   "id": "cd2f6ac8-1476-47e8-b5a9-01d034c39b73",
   "metadata": {},
   "outputs": [
    {
     "data": {
      "text/plain": [
       "array([ 3., -1.])"
      ]
     },
     "execution_count": 125,
     "metadata": {},
     "output_type": "execute_result"
    }
   ],
   "source": [
    "ort_row(a, b)"
   ]
  },
  {
   "cell_type": "code",
   "execution_count": null,
   "id": "028124d1-c2f9-470c-84db-889561b52555",
   "metadata": {},
   "outputs": [],
   "source": []
  }
 ],
 "metadata": {
  "kernelspec": {
   "display_name": "Python 3 (ipykernel)",
   "language": "python",
   "name": "python3"
  },
  "language_info": {
   "codemirror_mode": {
    "name": "ipython",
    "version": 3
   },
   "file_extension": ".py",
   "mimetype": "text/x-python",
   "name": "python",
   "nbconvert_exporter": "python",
   "pygments_lexer": "ipython3",
   "version": "3.9.7"
  }
 },
 "nbformat": 4,
 "nbformat_minor": 5
}
