{
 "cells": [
  {
   "cell_type": "code",
   "execution_count": 1,
   "id": "841e0031-0fd2-4103-85c2-8a92a364bee9",
   "metadata": {},
   "outputs": [],
   "source": [
    "import numpy as np"
   ]
  },
  {
   "cell_type": "code",
   "execution_count": 2,
   "id": "2f07a26e-4c6e-4506-b317-3ca53b05c5ec",
   "metadata": {},
   "outputs": [],
   "source": [
    "A1 = np.array([[2, -1, 0], [-1, 2, -1], [0, -1, 2]])\n",
    "A2 = np.array([[2, -1, -1], [-1, 2, -1], [1, -1, 2]])\n",
    "A3 = np.array([[1, -1, -1], [-1, 1, -2], [1, -2, 1]])\n",
    "t = 1 / 2"
   ]
  },
  {
   "cell_type": "code",
   "execution_count": 6,
   "id": "5236de15-956f-435f-8a2a-77ee02ae27df",
   "metadata": {},
   "outputs": [
    {
     "name": "stdout",
     "output_type": "stream",
     "text": [
      "да, будет\n"
     ]
    }
   ],
   "source": [
    "if t > 0 and t < min(2 / i for i in np.linalg.eig(A1)[0]):\n",
    "    print(\"да, будет\")\n",
    "else: print(\"нет, не будет\")"
   ]
  },
  {
   "cell_type": "code",
   "execution_count": 7,
   "id": "49ac916b-85b6-4960-8910-9781bc091699",
   "metadata": {},
   "outputs": [
    {
     "name": "stdout",
     "output_type": "stream",
     "text": [
      "да, будет\n"
     ]
    }
   ],
   "source": [
    "if t > 0 and t < min(2 / i for i in np.linalg.eig(A2)[0]):\n",
    "    print(\"да, будет\")\n",
    "else: print(\"нет, не будет\")"
   ]
  },
  {
   "cell_type": "code",
   "execution_count": 8,
   "id": "cef264b6-9402-419f-9d56-0049b075a06c",
   "metadata": {},
   "outputs": [
    {
     "name": "stdout",
     "output_type": "stream",
     "text": [
      "нет, не будет\n"
     ]
    }
   ],
   "source": [
    "if t > 0 and t < min(2 / i for i in np.linalg.eig(A3)[0]):\n",
    "    print(\"да, будет\")\n",
    "else: print(\"нет, не будет\")"
   ]
  }
 ],
 "metadata": {
  "kernelspec": {
   "display_name": "Python 3 (ipykernel)",
   "language": "python",
   "name": "python3"
  },
  "language_info": {
   "codemirror_mode": {
    "name": "ipython",
    "version": 3
   },
   "file_extension": ".py",
   "mimetype": "text/x-python",
   "name": "python",
   "nbconvert_exporter": "python",
   "pygments_lexer": "ipython3",
   "version": "3.9.7"
  }
 },
 "nbformat": 4,
 "nbformat_minor": 5
}
