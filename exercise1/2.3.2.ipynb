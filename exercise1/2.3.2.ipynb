{
 "cells": [
  {
   "cell_type": "code",
   "execution_count": 89,
   "id": "5d1604dc-a3aa-4141-a9d3-97dacac41ab8",
   "metadata": {},
   "outputs": [],
   "source": [
    "import math\n",
    "import numpy as np"
   ]
  },
  {
   "cell_type": "code",
   "execution_count": 90,
   "id": "e4957fe1-8696-44a6-9043-76084597c846",
   "metadata": {},
   "outputs": [],
   "source": [
    "def zeydel(A, b, x0): \n",
    "    for i in range(len(A)):\n",
    "        s1 = sum([A[i][j] * x0[j] for j in range(i)])\n",
    "        s2 = sum([A[i][j] * x0[j] for j in range(i + 1, len(A))])\n",
    "        x0[i] = (b[i] - s1 - s2) / A[i][i]\n",
    "    return(x0)"
   ]
  },
  {
   "cell_type": "code",
   "execution_count": 91,
   "id": "72979599-b0e3-453c-9343-7195737a2257",
   "metadata": {},
   "outputs": [
    {
     "data": {
      "text/plain": [
       "array([0.  , 1.  , 1.5 , 0.25])"
      ]
     },
     "execution_count": 91,
     "metadata": {},
     "output_type": "execute_result"
    }
   ],
   "source": [
    "A1 = np.array([[2., -1., 0., 0.], [-1., 2., -1., 0.], [0., -1., 2., -1.], [0., 0., -1., 2.]])\n",
    "b = np.array([-1., 1., 1., -1.])\n",
    "x0 = np.array([1., 1., 1., 1.])\n",
    "zeydel(A1, b, x0)"
   ]
  },
  {
   "cell_type": "code",
   "execution_count": 92,
   "id": "4ba139ec-e8a5-4735-b4f4-c9ed96d7236f",
   "metadata": {},
   "outputs": [
    {
     "data": {
      "text/plain": [
       "array([0.  , 1.  , 1.5 , 0.25])"
      ]
     },
     "execution_count": 92,
     "metadata": {},
     "output_type": "execute_result"
    }
   ],
   "source": [
    "A2 = np.array([[1, -1, 0, 0], [-1, 2, -1, 0], [0, -1, 2, -1], [0, 0, -1, 2]])\n",
    "b = np.array([-1., 1., 1., -1.])\n",
    "x0 = np.array([1., 1., 1., 1.])\n",
    "zeydel(A2, b, x0)"
   ]
  },
  {
   "cell_type": "code",
   "execution_count": 93,
   "id": "2060a72c-e8a5-4f72-878b-29df9d4a656e",
   "metadata": {},
   "outputs": [
    {
     "data": {
      "text/plain": [
       "array([-0.5   ,  0.75  ,  1.375 ,  0.4375])"
      ]
     },
     "execution_count": 93,
     "metadata": {},
     "output_type": "execute_result"
    }
   ],
   "source": [
    "A3 = np.array([[2, -1, 0, 1], [-1, 2, -1, 0], [0, -1, 2, -1], [1, 0, -1, 2]])\n",
    "b = np.array([-1., 1., 1., -1.])\n",
    "x0 = np.array([1., 1., 1., 1.])\n",
    "zeydel(A3, b, x0)"
   ]
  },
  {
   "cell_type": "code",
   "execution_count": null,
   "id": "a037abdc-57a3-4bf0-9aac-99452c4ed1fc",
   "metadata": {},
   "outputs": [],
   "source": []
  },
  {
   "cell_type": "code",
   "execution_count": null,
   "id": "56d91ae8-21c0-48af-83ac-21b6f905cd88",
   "metadata": {},
   "outputs": [],
   "source": []
  }
 ],
 "metadata": {
  "kernelspec": {
   "display_name": "Python 3 (ipykernel)",
   "language": "python",
   "name": "python3"
  },
  "language_info": {
   "codemirror_mode": {
    "name": "ipython",
    "version": 3
   },
   "file_extension": ".py",
   "mimetype": "text/x-python",
   "name": "python",
   "nbconvert_exporter": "python",
   "pygments_lexer": "ipython3",
   "version": "3.9.7"
  }
 },
 "nbformat": 4,
 "nbformat_minor": 5
}
