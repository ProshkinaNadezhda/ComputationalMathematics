{
 "cells": [
  {
   "cell_type": "code",
   "execution_count": 4,
   "id": "d0f396d3-8948-4273-94d0-70e62fa818bc",
   "metadata": {},
   "outputs": [],
   "source": [
    "import numpy as np"
   ]
  },
  {
   "cell_type": "code",
   "execution_count": 32,
   "id": "ff28138c-4703-41b8-8c83-c1e85c04b7a3",
   "metadata": {},
   "outputs": [],
   "source": [
    "def split(A):\n",
    "    D = A * np.eye(len(A))\n",
    "    E = -1 * (A * np.tri(len(A)) - D)\n",
    "    F = -1 * (A - D + E)\n",
    "    return [D, E, F]"
   ]
  },
  {
   "cell_type": "code",
   "execution_count": 46,
   "id": "48eab5cc-855f-4d6b-9dcb-485fec31cc9e",
   "metadata": {},
   "outputs": [],
   "source": [
    "def convergence(DEF):\n",
    "    B = np.linalg.inv(DEF[0] - DEF[1]) * DEF[2]\n",
    "    eigenvalues = np.linalg.eig(B)[0]\n",
    "    return np.prod([i < 1 for i in eigenvalues])"
   ]
  },
  {
   "cell_type": "code",
   "execution_count": 51,
   "id": "b6e5d7fe-10bd-44e6-8659-2c06bb79558d",
   "metadata": {},
   "outputs": [],
   "source": [
    "A = np.array([[10., -1., 2., -3.], [-1., 10., -2., 3.], [2., -2., 10., -3.], [-3., 3., -3., 10.]])"
   ]
  },
  {
   "cell_type": "code",
   "execution_count": 52,
   "id": "286f1148-fe0a-4809-a1f3-793635e633bf",
   "metadata": {},
   "outputs": [
    {
     "name": "stdout",
     "output_type": "stream",
     "text": [
      "будет сходящимся\n"
     ]
    }
   ],
   "source": [
    "if (convergence(split(A1))):\n",
    "    print('будет сходящимся')\n",
    "else: print('не будет сходящимся')"
   ]
  },
  {
   "cell_type": "code",
   "execution_count": null,
   "id": "397978d6-4011-4d3c-bcc5-da4d14355ad8",
   "metadata": {},
   "outputs": [],
   "source": []
  },
  {
   "cell_type": "code",
   "execution_count": null,
   "id": "536f8dd3-0f34-4c43-9684-012642d66033",
   "metadata": {},
   "outputs": [],
   "source": []
  }
 ],
 "metadata": {
  "kernelspec": {
   "display_name": "Python 3 (ipykernel)",
   "language": "python",
   "name": "python3"
  },
  "language_info": {
   "codemirror_mode": {
    "name": "ipython",
    "version": 3
   },
   "file_extension": ".py",
   "mimetype": "text/x-python",
   "name": "python",
   "nbconvert_exporter": "python",
   "pygments_lexer": "ipython3",
   "version": "3.9.7"
  }
 },
 "nbformat": 4,
 "nbformat_minor": 5
}
