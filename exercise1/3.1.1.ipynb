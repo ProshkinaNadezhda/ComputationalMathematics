{
 "cells": [
  {
   "cell_type": "code",
   "execution_count": 10,
   "id": "b6ad7103-6090-4019-98d6-6218d58365f1",
   "metadata": {},
   "outputs": [],
   "source": [
    "import numpy as np"
   ]
  },
  {
   "cell_type": "code",
   "execution_count": 45,
   "id": "5984bbe6-b3e4-4cd9-9af0-0a76c878315f",
   "metadata": {},
   "outputs": [],
   "source": [
    "a, b = 1/21, 5/4 \n",
    "c, d = -5/4, -1/21"
   ]
  },
  {
   "cell_type": "code",
   "execution_count": 46,
   "id": "d1915a32-8672-4e4a-89d2-a0b211f4c740",
   "metadata": {},
   "outputs": [],
   "source": [
    "f0 = [20., -4., -5., 1.]\n",
    "f1 = [60., -8., -5.]\n",
    "f2 = [120., -8.]\n",
    "f3 = [120.]\n",
    "f = [f0, f1, f2, f3]"
   ]
  },
  {
   "cell_type": "code",
   "execution_count": 47,
   "id": "de779730-4fb5-4726-8f39-cdf656b17c72",
   "metadata": {},
   "outputs": [
    {
     "name": "stdout",
     "output_type": "stream",
     "text": [
      "0.7549940611165101\n",
      "-5.244897959183674\n",
      "-2.2857142857142865\n",
      "120.0\n",
      " \n",
      "27.5625\n",
      "78.75\n",
      "142.0\n",
      "120.0\n"
     ]
    }
   ],
   "source": [
    "for i in f:\n",
    "    print(sum([i[j] * a**(len(i) - 1 - j) for j in range(len(i))]))\n",
    "print(' ')    \n",
    "for i in f:\n",
    "    print(sum([i[j] * b**(len(i) - 1 - j) for j in range(len(i))]))"
   ]
  },
  {
   "cell_type": "code",
   "execution_count": 48,
   "id": "735e1f8b-bf87-4efb-8215-278948c054e7",
   "metadata": {},
   "outputs": [
    {
     "name": "stdout",
     "output_type": "stream",
     "text": [
      "-38.0625\n",
      "98.75\n",
      "-158.0\n",
      "120.0\n",
      " \n",
      "1.226865349314329\n",
      "-4.482993197278912\n",
      "-13.714285714285714\n",
      "120.0\n"
     ]
    }
   ],
   "source": [
    "for i in f:\n",
    "    print(sum([i[j] * c**(len(i) - 1 - j) for j in range(len(i))]))\n",
    "print(' ')    \n",
    "for i in f:\n",
    "    print(sum([i[j] * d**(len(i) - 1 - j) for j in range(len(i))]))"
   ]
  },
  {
   "cell_type": "code",
   "execution_count": null,
   "id": "ea859687-bbf6-4b61-ab57-94067a3e66d9",
   "metadata": {},
   "outputs": [],
   "source": []
  },
  {
   "cell_type": "code",
   "execution_count": 57,
   "id": "a60ce293-c843-4438-b92d-d8d929a0733d",
   "metadata": {},
   "outputs": [],
   "source": [
    "f0 = [20., -4., -5., 1.]\n",
    "f1 = [60., -8., -5.]\n",
    "\n",
    "f0_a = sum([f0[j] * a**(len(f0) - 1 - j) for j in range(len(f0))])\n",
    "f0_b = sum([f0[j] * b**(len(f0) - 1 - j) for j in range(len(f0))])\n",
    "f0_c = sum([f0[j] * c**(len(f0) - 1 - j) for j in range(len(f0))])\n",
    "f0_d = sum([f0[j] * d**(len(f0) - 1 - j) for j in range(len(f0))])\n",
    "\n",
    "f1_a = sum([f1[j] * a**(len(f1) - 1 - j) for j in range(len(f1))])\n",
    "f1_b = sum([f1[j] * b**(len(f1) - 1 - j) for j in range(len(f1))])\n",
    "f1_c = sum([f1[j] * c**(len(f1) - 1 - j) for j in range(len(f1))])\n",
    "f1_d = sum([f1[j] * d**(len(f1) - 1 - j) for j in range(len(f1))])\n",
    "\n",
    "f2_a = - f0_a / f1_a\n",
    "f2_b = - f0_b / f1_b\n",
    "f2_c = - f0_c / f1_c\n",
    "f2_d = - f0_d / f1_d\n",
    "\n",
    "f3_a = - f1_a / f2_a\n",
    "f3_b = - f1_b / f2_b\n",
    "f3_c = - f1_c / f2_c\n",
    "f3_d = - f1_d / f2_d"
   ]
  },
  {
   "cell_type": "code",
   "execution_count": 58,
   "id": "d9230906-fafb-4ae9-b77c-9b750d851d8f",
   "metadata": {},
   "outputs": [
    {
     "name": "stdout",
     "output_type": "stream",
     "text": [
      "[0.7549940611165101, -5.244897959183674, 0.14394828402610504, 36.43598806799608]\n",
      "[27.5625, 78.75, -0.35, 225.00000000000003]\n",
      "[-38.0625, 98.75, 0.38544303797468354, -256.19868637110017]\n",
      "[1.226865349314329, -4.482993197278912, 0.273671026326565, 16.38095657203209]\n"
     ]
    }
   ],
   "source": [
    "print([f0_a, f1_a, f2_a, f3_a]) \n",
    "print([f0_b, f1_b, f2_b, f3_b]) \n",
    "print([f0_c, f1_c, f2_c, f3_c]) \n",
    "print([f0_d, f1_d, f2_d, f3_d]) "
   ]
  },
  {
   "cell_type": "code",
   "execution_count": null,
   "id": "aad41452-b162-4851-8b63-49997cdb5b34",
   "metadata": {},
   "outputs": [],
   "source": []
  },
  {
   "cell_type": "code",
   "execution_count": 1,
   "id": "db3f3349-9428-42a2-b5f7-d850b3ef9ee6",
   "metadata": {},
   "outputs": [],
   "source": [
    "def f(x):\n",
    "    return 20 * x**3 - 4 * x**2 - 5 * x +1"
   ]
  },
  {
   "cell_type": "code",
   "execution_count": 21,
   "id": "4094642e-d651-4bf7-99d4-c0de24fdc9cf",
   "metadata": {},
   "outputs": [
    {
     "name": "stdout",
     "output_type": "stream",
     "text": [
      "первый корень локализован на отрезке [ 0.1999985584511051 ; 0.4989632489632489 ]\n"
     ]
    }
   ],
   "source": [
    "a1 = 1/21\n",
    "b1 = 5/4\n",
    "for i in np.linspace(a1, b1, 1000):\n",
    "    if f(a1) * f(i) < 0:\n",
    "        b1 = i\n",
    "        for j in np.linspace(a1, b1, 1000):\n",
    "            if f(j) * f(b1) < 0:\n",
    "                a1 = j\n",
    "            else: break\n",
    "print('первый корень локализован на отрезке [',a1,';',b1,']')"
   ]
  },
  {
   "cell_type": "code",
   "execution_count": 22,
   "id": "24c0ed54-f1f0-4aed-bf52-5810cd36d5b5",
   "metadata": {},
   "outputs": [
    {
     "name": "stdout",
     "output_type": "stream",
     "text": [
      "второй корень локализован на отрезке [ 0.49999996658041485 ; 1.25 ]\n"
     ]
    }
   ],
   "source": [
    "a2 = b1\n",
    "b2 = 5/4\n",
    "for i in np.linspace(a2, b2, 1000):\n",
    "    if f(a2) * f(i) < 0:\n",
    "        b2 = i\n",
    "        for j in np.linspace(a2, b2, 1000):\n",
    "            if f(j) * f(b2) < 0:\n",
    "                a2 = j\n",
    "            else: break\n",
    "print('второй корень локализован на отрезке [',a2,';',b2,']')"
   ]
  },
  {
   "cell_type": "code",
   "execution_count": 31,
   "id": "4fc75982-7636-4922-aa55-d035bdbe9bea",
   "metadata": {},
   "outputs": [
    {
     "name": "stdout",
     "output_type": "stream",
     "text": [
      "третий корень локализован на отрезке [ -0.5000007281465417 ; -0.047619047619047616 ]\n"
     ]
    }
   ],
   "source": [
    "a3 = -5/4\n",
    "b3 = -1/21\n",
    "for i in np.linspace(a3, b3, 1000):\n",
    "    if f(a3) * f(i) < 0:\n",
    "        b3 = i\n",
    "        for j in np.linspace(a3, b3, 1000):\n",
    "            if f(j) * f(b3) < 0:\n",
    "                a3 = j\n",
    "            else: break\n",
    "print('третий корень локализован на отрезке [',a3,';',b3,']')"
   ]
  }
 ],
 "metadata": {
  "kernelspec": {
   "display_name": "Python 3 (ipykernel)",
   "language": "python",
   "name": "python3"
  },
  "language_info": {
   "codemirror_mode": {
    "name": "ipython",
    "version": 3
   },
   "file_extension": ".py",
   "mimetype": "text/x-python",
   "name": "python",
   "nbconvert_exporter": "python",
   "pygments_lexer": "ipython3",
   "version": "3.9.7"
  }
 },
 "nbformat": 4,
 "nbformat_minor": 5
}
