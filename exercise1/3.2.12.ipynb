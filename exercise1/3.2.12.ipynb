{
 "cells": [
  {
   "cell_type": "code",
   "execution_count": 5,
   "id": "93d70564-7a75-451b-8221-530cba6fd71e",
   "metadata": {},
   "outputs": [],
   "source": [
    "import numpy as np\n",
    "import time"
   ]
  },
  {
   "cell_type": "code",
   "execution_count": 11,
   "id": "f368a8b3-9124-4398-b564-55f07f7d292d",
   "metadata": {},
   "outputs": [],
   "source": [
    "def f(x):\n",
    "    return np.e**x - x**2"
   ]
  },
  {
   "cell_type": "code",
   "execution_count": 32,
   "id": "b955838e-e163-487b-9cd0-06c3ddf9a5bc",
   "metadata": {},
   "outputs": [],
   "source": [
    "e = 10**(-9)\n",
    "eps = 100\n",
    "x = -100\n",
    "st = time.time()\n",
    "while eps > e:\n",
    "    x = -(np.e**x)**0.5\n",
    "    eps = abs(f(x))\n",
    "t1 = time.time() - st"
   ]
  },
  {
   "cell_type": "code",
   "execution_count": 33,
   "id": "58cda631-1483-451c-ad36-6413e1a400bb",
   "metadata": {},
   "outputs": [
    {
     "data": {
      "text/plain": [
       "(0.0, -0.7034674227340659)"
      ]
     },
     "execution_count": 33,
     "metadata": {},
     "output_type": "execute_result"
    }
   ],
   "source": [
    "t1, x"
   ]
  },
  {
   "cell_type": "code",
   "execution_count": 34,
   "id": "8b134885-b0b0-4d1d-87b3-f4f15b151d2d",
   "metadata": {},
   "outputs": [],
   "source": [
    "e = 10**(-9)\n",
    "eps = 100\n",
    "x = -100\n",
    "st = time.time()\n",
    "while eps > e:\n",
    "    x = 1/6 * x - 5/6 * np.e**(x / 2)\n",
    "    eps = abs(f(x))\n",
    "t1 = time.time() - st"
   ]
  },
  {
   "cell_type": "code",
   "execution_count": 35,
   "id": "41c9e427-4c51-4408-87f1-a33db1bf1775",
   "metadata": {},
   "outputs": [
    {
     "data": {
      "text/plain": [
       "(0.0, -0.7034674227731106)"
      ]
     },
     "execution_count": 35,
     "metadata": {},
     "output_type": "execute_result"
    }
   ],
   "source": [
    "t1, x"
   ]
  },
  {
   "cell_type": "code",
   "execution_count": null,
   "id": "c265af23-826d-49fe-bde3-bdf2397a3140",
   "metadata": {},
   "outputs": [],
   "source": []
  }
 ],
 "metadata": {
  "kernelspec": {
   "display_name": "Python 3 (ipykernel)",
   "language": "python",
   "name": "python3"
  },
  "language_info": {
   "codemirror_mode": {
    "name": "ipython",
    "version": 3
   },
   "file_extension": ".py",
   "mimetype": "text/x-python",
   "name": "python",
   "nbconvert_exporter": "python",
   "pygments_lexer": "ipython3",
   "version": "3.9.7"
  }
 },
 "nbformat": 4,
 "nbformat_minor": 5
}
