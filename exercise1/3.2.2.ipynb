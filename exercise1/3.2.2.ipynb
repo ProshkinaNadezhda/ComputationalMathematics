{
 "cells": [
  {
   "cell_type": "code",
   "execution_count": 1,
   "id": "9bde8020-ee41-455c-9b3c-a6cc1333454d",
   "metadata": {},
   "outputs": [],
   "source": [
    "import numpy as np"
   ]
  },
  {
   "cell_type": "code",
   "execution_count": 13,
   "id": "0dd98be3-5fba-4245-bcaf-6fec6c4c728e",
   "metadata": {},
   "outputs": [],
   "source": [
    "def f(x):\n",
    "    return 1 / x - np.cos(x)\n",
    "\n",
    "def f1(x):\n",
    "    return -1 / x**2 + np.sin(x)"
   ]
  },
  {
   "cell_type": "code",
   "execution_count": 28,
   "id": "0c5ddc3b-c82b-4965-9730-54d4e3e0b93c",
   "metadata": {},
   "outputs": [
    {
     "name": "stdout",
     "output_type": "stream",
     "text": [
      "первый корень локализован на отрезке [ 4.91718592451151 ; 6.283185307179586 ]\n"
     ]
    }
   ],
   "source": [
    "a1 = 0 + np.e**(-100)\n",
    "b1 = 2 * np.pi\n",
    "for i in np.linspace(a1, b1, 100000):\n",
    "    if f(a1) * f(i) < 0:\n",
    "        b1 = i\n",
    "        for j in np.linspace(a1, b1, 100000):\n",
    "            if f(j) * f(b1) < 0:\n",
    "                a1 = j\n",
    "            else: break\n",
    "print('первый корень локализован на отрезке [',a1,';',b1,']')"
   ]
  },
  {
   "cell_type": "code",
   "execution_count": 23,
   "id": "ce87cc52-7d8b-4fa8-af0f-fd7ebb476f01",
   "metadata": {},
   "outputs": [
    {
     "name": "stdout",
     "output_type": "stream",
     "text": [
      "корень: 4.917185925287132\n"
     ]
    }
   ],
   "source": [
    "# метод Ньютона\n",
    "e = 10**(-9)\n",
    "eps = 100\n",
    "x = a1\n",
    "while eps > e:\n",
    "    x = x - f(x) / f1(x)\n",
    "    eps = abs(f(x))\n",
    "print('корень:',x)"
   ]
  },
  {
   "cell_type": "code",
   "execution_count": 25,
   "id": "9663259a-3557-4173-8299-f55e4c167bdb",
   "metadata": {},
   "outputs": [
    {
     "data": {
      "text/plain": [
       "2.220446049250313e-16"
      ]
     },
     "execution_count": 25,
     "metadata": {},
     "output_type": "execute_result"
    }
   ],
   "source": [
    "f(x)"
   ]
  }
 ],
 "metadata": {
  "kernelspec": {
   "display_name": "Python 3 (ipykernel)",
   "language": "python",
   "name": "python3"
  },
  "language_info": {
   "codemirror_mode": {
    "name": "ipython",
    "version": 3
   },
   "file_extension": ".py",
   "mimetype": "text/x-python",
   "name": "python",
   "nbconvert_exporter": "python",
   "pygments_lexer": "ipython3",
   "version": "3.9.7"
  }
 },
 "nbformat": 4,
 "nbformat_minor": 5
}
