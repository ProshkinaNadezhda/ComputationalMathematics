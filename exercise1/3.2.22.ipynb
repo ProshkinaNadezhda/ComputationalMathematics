{
 "cells": [
  {
   "cell_type": "code",
   "execution_count": 1,
   "id": "af39ebb0-8531-48ae-a832-e46c2e861dea",
   "metadata": {},
   "outputs": [],
   "source": [
    "import numpy as np"
   ]
  },
  {
   "cell_type": "code",
   "execution_count": 6,
   "id": "a2ec465d-9838-4cb5-bfb2-f729fe2d2a66",
   "metadata": {},
   "outputs": [],
   "source": [
    "def f(x):\n",
    "    return x**2 - np.cos(x)\n",
    "\n",
    "def f1(x):\n",
    "    return 2 * x + np.sin(x)"
   ]
  },
  {
   "cell_type": "code",
   "execution_count": 10,
   "id": "89daa20b-313d-4e34-98ec-bba4b9b6921d",
   "metadata": {},
   "outputs": [
    {
     "name": "stdout",
     "output_type": "stream",
     "text": [
      "первый корень локализован на отрезке [ 0.8241323122339219 ; 6.283185307179586 ]\n"
     ]
    }
   ],
   "source": [
    "a1 = 0\n",
    "b1 = 2 * np.pi\n",
    "for i in np.linspace(a1, b1, 1000000):\n",
    "    if f(a1) * f(i) < 0:\n",
    "        b1 = i\n",
    "        for j in np.linspace(a1, b1, 100000):\n",
    "            if f(j) * f(b1) < 0:\n",
    "                a1 = j\n",
    "            else: break\n",
    "print('первый корень локализован на отрезке [',a1,';',b1,']')"
   ]
  },
  {
   "cell_type": "code",
   "execution_count": 12,
   "id": "3c9bdf09-1d33-4fa5-9561-423e2ccae9e2",
   "metadata": {},
   "outputs": [
    {
     "name": "stdout",
     "output_type": "stream",
     "text": [
      "корни: 0.8241323123025224 и -0.8241323123025224 в силу четности функции\n"
     ]
    }
   ],
   "source": [
    "# метод Ньютона\n",
    "e = 10**(-9)\n",
    "eps = 100\n",
    "x = a1\n",
    "while eps > e:\n",
    "    x = x - f(x) / f1(x)\n",
    "    eps = abs(f(x))\n",
    "print('корни:',x, 'и', -x, 'в силу четности функции')"
   ]
  }
 ],
 "metadata": {
  "kernelspec": {
   "display_name": "Python 3 (ipykernel)",
   "language": "python",
   "name": "python3"
  },
  "language_info": {
   "codemirror_mode": {
    "name": "ipython",
    "version": 3
   },
   "file_extension": ".py",
   "mimetype": "text/x-python",
   "name": "python",
   "nbconvert_exporter": "python",
   "pygments_lexer": "ipython3",
   "version": "3.9.7"
  }
 },
 "nbformat": 4,
 "nbformat_minor": 5
}
