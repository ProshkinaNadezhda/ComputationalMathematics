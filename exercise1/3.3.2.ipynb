{
 "cells": [
  {
   "cell_type": "code",
   "execution_count": 3,
   "id": "139334f1-9116-430b-8305-863ae3af51d9",
   "metadata": {},
   "outputs": [],
   "source": [
    "import numpy as np"
   ]
  },
  {
   "cell_type": "code",
   "execution_count": 13,
   "id": "5b13e65b-288b-43ff-a934-5b89d200023c",
   "metadata": {},
   "outputs": [],
   "source": [
    "def f1(x, y):\n",
    "    return x - np.tan(y)\n",
    "def f2(x, y):\n",
    "    return y - np.tan(x)"
   ]
  },
  {
   "cell_type": "code",
   "execution_count": 22,
   "id": "6b19cd11-59b5-4be3-8150-d4e0714e791b",
   "metadata": {},
   "outputs": [
    {
     "name": "stdout",
     "output_type": "stream",
     "text": [
      "корень: (4.06758886580781, 1.3297312206950398)\n"
     ]
    }
   ],
   "source": [
    "x = 3 * np.pi / 2\n",
    "y = np.pi / 2\n",
    "e = 10**(-9)\n",
    "eps = 100\n",
    "while eps > e:\n",
    "    x, y = np.arctan(y) + np.pi, np.arctan(x)\n",
    "    eps = max(abs(f1(x, y)), abs(f2(x, y)))\n",
    "print('корень:', (x, y))"
   ]
  },
  {
   "cell_type": "code",
   "execution_count": 23,
   "id": "6ca83e55-4418-465c-ba4a-0f80a7af0cf7",
   "metadata": {},
   "outputs": [
    {
     "data": {
      "text/plain": [
       "-2.404316745696633e-10"
      ]
     },
     "execution_count": 23,
     "metadata": {},
     "output_type": "execute_result"
    }
   ],
   "source": [
    "f1(x, y)"
   ]
  },
  {
   "cell_type": "code",
   "execution_count": 24,
   "id": "07e13619-c393-40b9-bf99-bc76b8fdcc9d",
   "metadata": {},
   "outputs": [
    {
     "data": {
      "text/plain": [
       "-1.0002354500215915e-10"
      ]
     },
     "execution_count": 24,
     "metadata": {},
     "output_type": "execute_result"
    }
   ],
   "source": [
    "f2(x, y)"
   ]
  }
 ],
 "metadata": {
  "kernelspec": {
   "display_name": "Python 3 (ipykernel)",
   "language": "python",
   "name": "python3"
  },
  "language_info": {
   "codemirror_mode": {
    "name": "ipython",
    "version": 3
   },
   "file_extension": ".py",
   "mimetype": "text/x-python",
   "name": "python",
   "nbconvert_exporter": "python",
   "pygments_lexer": "ipython3",
   "version": "3.9.7"
  }
 },
 "nbformat": 4,
 "nbformat_minor": 5
}
