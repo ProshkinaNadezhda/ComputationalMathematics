{
 "cells": [
  {
   "cell_type": "code",
   "execution_count": 1,
   "id": "c5b2e9fd-1abf-4243-a1bc-710bcdf712bc",
   "metadata": {},
   "outputs": [],
   "source": [
    "import numpy as np"
   ]
  },
  {
   "cell_type": "code",
   "execution_count": 59,
   "id": "9cc191cf-a05d-445f-a30d-e66c4e1b94ff",
   "metadata": {},
   "outputs": [],
   "source": [
    "def calc_jac(F, arg, jac):\n",
    "    dd = 1.0e-6       \n",
    "    for i in range(len(arg)):\n",
    "        for j in range(len(arg)):\n",
    "            jac[i][j] = (F[i]([*arg[:j], arg[j] + dd, *arg[j+1:]]) - F[i](arg)) / dd"
   ]
  },
  {
   "cell_type": "code",
   "execution_count": 60,
   "id": "50ba6ef5-9553-4a11-84ef-b58a8c73d79c",
   "metadata": {},
   "outputs": [],
   "source": [
    "def newton_iteration(jac, f):\n",
    "    return np.linalg.solve(jac, f)"
   ]
  },
  {
   "cell_type": "code",
   "execution_count": 61,
   "id": "70cf258d-11b3-4711-843f-d482ecc21738",
   "metadata": {},
   "outputs": [],
   "source": [
    "def f1(arg):    \n",
    "    return np.sin(arg[0] + arg[1]) - 1.5 * arg[0]\n",
    "\n",
    "def f2(arg):\n",
    "    return arg[0]**2 + arg[1]**2 - 1.0"
   ]
  },
  {
   "cell_type": "code",
   "execution_count": 62,
   "id": "2c8e4f83-7338-40cf-a171-8eb1db6ac818",
   "metadata": {},
   "outputs": [],
   "source": [
    "def calc_F(F, arg):\n",
    "    return np.array([F[i](arg) for i in range(len(arg))])"
   ]
  },
  {
   "cell_type": "code",
   "execution_count": 63,
   "id": "5e803d30-ab88-43af-bb8b-e8c5bda5fe68",
   "metadata": {},
   "outputs": [
    {
     "name": "stdout",
     "output_type": "stream",
     "text": [
      "корни: [0.65817741 0.75286286]\n"
     ]
    }
   ],
   "source": [
    "F = [f1, f2]\n",
    "x = [0, 1]\n",
    "jac = [[0, 0], [0, 0]]\n",
    "e, eps = 10**(-9), 100\n",
    "\n",
    "while eps > e:\n",
    "    calc_jac(F, x, jac)\n",
    "    des = calc_F(F, x)\n",
    "    x -= newton_iteration(jac, des)\n",
    "    eps = max(des)\n",
    "\n",
    "print('корни:', x)"
   ]
  }
 ],
 "metadata": {
  "kernelspec": {
   "display_name": "Python 3 (ipykernel)",
   "language": "python",
   "name": "python3"
  },
  "language_info": {
   "codemirror_mode": {
    "name": "ipython",
    "version": 3
   },
   "file_extension": ".py",
   "mimetype": "text/x-python",
   "name": "python",
   "nbconvert_exporter": "python",
   "pygments_lexer": "ipython3",
   "version": "3.9.7"
  }
 },
 "nbformat": 4,
 "nbformat_minor": 5
}
